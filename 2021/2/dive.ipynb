{
 "cells": [
  {
   "cell_type": "code",
   "execution_count": 1,
   "metadata": {},
   "outputs": [],
   "source": [
    "import numpy as np"
   ]
  },
  {
   "cell_type": "code",
   "execution_count": 2,
   "metadata": {},
   "outputs": [],
   "source": [
    "with open(\"input.txt\") as f:\n",
    "    raw_report = f.read()"
   ]
  },
  {
   "cell_type": "code",
   "execution_count": 4,
   "metadata": {},
   "outputs": [],
   "source": [
    "steps = raw_report.split(\"\\n\")"
   ]
  },
  {
   "cell_type": "code",
   "execution_count": 6,
   "metadata": {},
   "outputs": [
    {
     "data": {
      "text/plain": [
       "2039912.0"
      ]
     },
     "execution_count": 6,
     "metadata": {},
     "output_type": "execute_result"
    }
   ],
   "source": [
    "location = complex(0, 0)  # horiz, depth\n",
    "apply = {\n",
    "    \"forward\": complex(1, 0),\n",
    "    \"up\": complex(0, -1),\n",
    "    \"down\": complex(0, 1)\n",
    "}\n",
    "for step in steps:\n",
    "    direction, distance = step.split()\n",
    "    location += int(distance) * apply[direction]\n",
    "\n",
    "location.real * location.imag"
   ]
  },
  {
   "cell_type": "code",
   "execution_count": 23,
   "metadata": {},
   "outputs": [
    {
     "data": {
      "text/plain": [
       "1942068080"
      ]
     },
     "execution_count": 23,
     "metadata": {},
     "output_type": "execute_result"
    }
   ],
   "source": [
    "location = np.array([0, 0, 0])  # horiz, depth, aim\n",
    "\n",
    "for step in steps:\n",
    "    direction, units = step.split()\n",
    "    apply = {\n",
    "        \"up\": np.array([0, 0, -1]),\n",
    "        \"down\": np.array([0, 0, 1]),\n",
    "        \"forward\": np.array([1, location[2], 0]),\n",
    "    }\n",
    "    location += int(units) * apply[direction]\n",
    "\n",
    "location[0] * location[1]\n"
   ]
  },
  {
   "cell_type": "code",
   "execution_count": null,
   "metadata": {},
   "outputs": [],
   "source": []
  }
 ],
 "metadata": {
  "interpreter": {
   "hash": "a7c72d866cf9c356c38ca4f76a4fd1cfab0f364b005555ea8fd972ca82a6cee4"
  },
  "kernelspec": {
   "display_name": "Python 3.9.9 64-bit ('venv': venv)",
   "language": "python",
   "name": "python3"
  },
  "language_info": {
   "codemirror_mode": {
    "name": "ipython",
    "version": 3
   },
   "file_extension": ".py",
   "mimetype": "text/x-python",
   "name": "python",
   "nbconvert_exporter": "python",
   "pygments_lexer": "ipython3",
   "version": "3.9.9"
  },
  "orig_nbformat": 4
 },
 "nbformat": 4,
 "nbformat_minor": 2
}
